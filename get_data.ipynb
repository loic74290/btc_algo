{
 "cells": [
  {
   "cell_type": "code",
   "execution_count": 1,
   "metadata": {
    "collapsed": true
   },
   "outputs": [],
   "source": [
    "import pandas as pd"
   ]
  },
  {
   "cell_type": "code",
   "execution_count": 2,
   "metadata": {
    "collapsed": false
   },
   "outputs": [],
   "source": [
    "from poloniex import Poloniex\n",
    "from time import time\n",
    "polo = Poloniex()\n",
    "\n"
   ]
  },
  {
   "cell_type": "code",
   "execution_count": 3,
   "metadata": {
    "collapsed": false
   },
   "outputs": [],
   "source": [
    "api = Poloniex(jsonNums=float)"
   ]
  },
  {
   "cell_type": "code",
   "execution_count": 22,
   "metadata": {
    "collapsed": false
   },
   "outputs": [],
   "source": [
    "%matplotlib inline"
   ]
  },
  {
   "cell_type": "code",
   "execution_count": 4,
   "metadata": {
    "collapsed": false
   },
   "outputs": [],
   "source": [
    "a = api.return24hVolume()\n",
    "a = pd.DataFrame(a)"
   ]
  },
  {
   "cell_type": "code",
   "execution_count": 5,
   "metadata": {
    "collapsed": false
   },
   "outputs": [
    {
     "name": "stdout",
     "output_type": "stream",
     "text": [
      "[u'USDT_BTC', u'USDT_DASH', u'USDT_ETC', u'USDT_ETH', u'USDT_LTC', u'USDT_NXT', u'USDT_REP', u'USDT_STR', u'USDT_XMR', u'USDT_XRP', u'USDT_ZEC']\n"
     ]
    }
   ],
   "source": [
    "pairs = [pair for pair in a.columns if pair.startswith('USDT')]\n",
    "print(pairs)"
   ]
  },
  {
   "cell_type": "code",
   "execution_count": 6,
   "metadata": {
    "collapsed": false
   },
   "outputs": [],
   "source": [
    "a = pd.DataFrame()\n",
    "\n",
    "for pair in pairs:\n",
    "    raw = api.returnChartData(pair, period = api.HOUR * 2, start = time() - api.MONTH * 3)\n",
    "    df = pd.DataFrame(raw)\n",
    "    df['date'] = pd.to_datetime(df[\"date\"], unit = 's')\n",
    "    df.set_index('date', inplace = True)\n",
    "    b = df['open']\n",
    "    a[pair] = b"
   ]
  },
  {
   "cell_type": "code",
   "execution_count": 38,
   "metadata": {
    "collapsed": false
   },
   "outputs": [
    {
     "data": {
      "text/plain": [
       "array([[<matplotlib.axes._subplots.AxesSubplot object at 0x11f0f6050>]], dtype=object)"
      ]
     },
     "execution_count": 38,
     "metadata": {},
     "output_type": "execute_result"
    },
    {
     "data": {
      "image/png": "[encoded data removed]",
      "text/plain": [
       "<matplotlib.figure.Figure at 0x11f025090>"
      ]
     },
     "metadata": {},
     "output_type": "display_data"
    }
   ],
   "source": [
    "rendement = ( a.diff() / a)\n",
    "\n",
    "rendement.hist(bins = 40, range = [-0.05, 0.05], column = 'USDT_BTC')"
   ]
  },
  {
   "cell_type": "code",
   "execution_count": 36,
   "metadata": {
    "collapsed": false
   },
   "outputs": [
    {
     "data": {
      "text/plain": [
       "USDT_BTC     0.000637\n",
       "USDT_DASH    0.000460\n",
       "USDT_ETC     0.001228\n",
       "USDT_ETH     0.001335\n",
       "USDT_LTC     0.001160\n",
       "USDT_NXT     0.001308\n",
       "USDT_REP     0.000174\n",
       "USDT_STR     0.000953\n",
       "USDT_XMR     0.000405\n",
       "USDT_XRP     0.001352\n",
       "USDT_ZEC     0.000905\n",
       "dtype: float64"
      ]
     },
     "execution_count": 36,
     "metadata": {},
     "output_type": "execute_result"
    }
   ],
   "source": [
    "#Calcul de la moyenne des rendements de chaque \n",
    "rendement.mean(0)"
   ]
  },
  {
   "cell_type": "code",
   "execution_count": null,
   "metadata": {
    "collapsed": true
   },
   "outputs": [],
   "source": []
  },
  {
   "cell_type": "code",
   "execution_count": 68,
   "metadata": {
    "collapsed": false
   },
   "outputs": [
    {
     "name": "stdout",
     "output_type": "stream",
     "text": [
      "                     USDT_BTC  USDT_DASH      USDT_ETC  USDT_ETH  USDT_LTC  \\\n",
      "date                                                                         \n",
      "2017-04-01 10:00:00 -0.000639   0.003441 -2.675386e-02  0.008994  0.014416   \n",
      "2017-04-02 02:00:00 -0.004587  -0.017910  8.302344e-03  0.001385 -0.017570   \n",
      "2017-04-02 10:00:00 -0.014263   0.028226 -1.213761e-02  0.011858 -0.031637   \n",
      "2017-04-02 18:00:00 -0.014693  -0.159161 -8.982121e-02 -0.016716 -0.002395   \n",
      "2017-04-02 22:00:00 -0.008070  -0.000568  1.506338e-02 -0.010697 -0.018182   \n",
      "2017-04-03 04:00:00  0.019111  -0.019023  4.780876e-08 -0.048943 -0.035141   \n",
      "2017-04-03 06:00:00 -0.001750   0.068020  1.869940e-02  0.016654  0.038231   \n",
      "2017-04-03 22:00:00  0.007858  -0.016646 -2.130711e-02 -0.022475  0.019280   \n",
      "2017-04-06 14:00:00 -0.011644   0.018873  6.794234e-03  0.013091  0.042614   \n",
      "2017-04-06 22:00:00  0.008718  -0.033385 -1.398153e-02  0.001024 -0.026316   \n",
      "2017-04-07 10:00:00  0.003743  -0.004215 -3.276887e-02 -0.004960 -0.031844   \n",
      "2017-04-09 18:00:00  0.008427  -0.012727 -9.792656e-03  0.011714 -0.110222   \n",
      "2017-04-10 12:00:00 -0.001898  -0.012099  2.572621e-03 -0.004078  0.013450   \n",
      "2017-04-13 22:00:00  0.005135  -0.022432 -6.756981e-03 -0.012301  0.004461   \n",
      "2017-04-18 10:00:00 -0.006429   0.013998  1.026766e-02  0.010087 -0.005168   \n",
      "2017-04-20 18:00:00  0.010680   0.001337 -2.831710e-02  0.018723 -0.015430   \n",
      "2017-04-20 20:00:00 -0.010017   0.001248  2.709748e-02  0.004848  0.017316   \n",
      "2017-04-21 02:00:00  0.003166   0.000002  2.732147e-05 -0.005025 -0.004646   \n",
      "2017-04-23 00:00:00 -0.001443  -0.001055  9.327366e-03  0.001340  0.027078   \n",
      "2017-04-23 18:00:00 -0.007033  -0.007017 -2.185623e-03 -0.002471  0.004776   \n",
      "2017-04-29 02:00:00 -0.000111  -0.004649 -9.634774e-05 -0.009315 -0.004977   \n",
      "2017-05-01 00:00:00 -0.000634   0.014515 -7.407205e-03  0.019498  0.002377   \n",
      "2017-05-01 06:00:00  0.001689   0.017001  1.627732e-02 -0.000978  0.013433   \n",
      "2017-05-01 18:00:00  0.011850  -0.021053 -2.427892e-02 -0.002421 -0.018491   \n",
      "2017-05-01 20:00:00  0.010865  -0.000865  5.488413e-02  0.004211 -0.006762   \n",
      "2017-05-01 22:00:00  0.002895  -0.020623 -4.988855e-02 -0.020622  0.003830   \n",
      "2017-05-02 08:00:00 -0.005810   0.020296 -4.137930e-03  0.007101  0.013422   \n",
      "2017-05-02 14:00:00 -0.007756  -0.004209  1.432507e-02  0.029655  0.005591   \n",
      "2017-05-03 02:00:00  0.017519  -0.008781 -6.826781e-03  0.002756  0.001186   \n",
      "2017-05-03 04:00:00 -0.010878   0.001596 -7.755656e-03 -0.000763  0.012048   \n",
      "...                       ...        ...           ...       ...       ...   \n",
      "2017-06-19 02:00:00 -0.000302   0.050455  8.455323e-03  0.002865 -0.023201   \n",
      "2017-06-19 06:00:00  0.009610  -0.018445  7.635577e-04  0.007227  0.033514   \n",
      "2017-06-19 16:00:00 -0.007205  -0.019513 -2.803738e-02  0.000674 -0.016321   \n",
      "2017-06-19 20:00:00 -0.014164   0.001214  6.740553e-04 -0.013212 -0.025763   \n",
      "2017-06-20 02:00:00  0.008846   0.013462 -1.135084e-02  0.007576 -0.011786   \n",
      "2017-06-20 14:00:00  0.009291   0.000052  1.038445e-02  0.010413 -0.016068   \n",
      "2017-06-20 20:00:00  0.020058   0.010901 -2.359763e-02 -0.040733  0.001122   \n",
      "2017-06-20 22:00:00  0.001093   0.008506  3.762947e-03  0.013773  0.017898   \n",
      "2017-06-21 04:00:00  0.015334   0.017866 -5.015685e-03 -0.011540 -0.025268   \n",
      "2017-06-21 06:00:00 -0.016704  -0.026266 -2.770919e-02 -0.029539 -0.020258   \n",
      "2017-06-22 02:00:00 -0.003587  -0.002481 -1.191053e-03 -0.009375 -0.000948   \n",
      "2017-06-22 18:00:00 -0.003346   0.010577  6.207967e-03  0.003058 -0.015970   \n",
      "2017-06-24 18:00:00 -0.008499  -0.004477 -1.080211e-02 -0.002030 -0.012092   \n",
      "2017-06-25 00:00:00 -0.008080  -0.001294 -7.214203e-03 -0.016883 -0.014909   \n",
      "2017-06-25 08:00:00 -0.006456  -0.000864 -1.286220e-02 -0.018001 -0.012222   \n",
      "2017-06-25 12:00:00  0.008541  -0.001524  1.298406e-01 -0.009018  0.019588   \n",
      "2017-06-25 20:00:00 -0.041616  -0.051614 -6.837608e-02 -0.078258 -0.056938   \n",
      "2017-06-26 02:00:00  0.008040   0.004684  5.780883e-02  0.032212  0.007338   \n",
      "2017-06-26 12:00:00 -0.019152   0.018750 -1.467634e-02 -0.015228 -0.023826   \n",
      "2017-06-27 00:00:00  0.006008   0.061251  4.109587e-02  0.033797  0.032709   \n",
      "2017-06-27 04:00:00 -0.000728  -0.003486  3.432289e-02  0.018139  0.010682   \n",
      "2017-06-27 18:00:00  0.010363   0.029888  1.276871e-02  0.013043  0.005466   \n",
      "2017-06-27 20:00:00  0.026981   0.056442  4.964586e-02  0.083665  0.039312   \n",
      "2017-06-27 22:00:00  0.007441   0.000598 -9.790839e-03  0.016458  0.003606   \n",
      "2017-06-28 02:00:00 -0.036762  -0.010333 -6.232272e-02 -0.089222 -0.054293   \n",
      "2017-06-28 06:00:00 -0.020281  -0.011039 -2.591246e-02 -0.042383 -0.016659   \n",
      "2017-06-28 10:00:00 -0.001617  -0.008450  7.567344e-03  0.003427  0.010790   \n",
      "2017-06-28 16:00:00 -0.012515  -0.027394 -2.785516e-02 -0.013297 -0.024531   \n",
      "2017-06-29 00:00:00 -0.012708  -0.020851 -9.677153e-03 -0.015705 -0.016318   \n",
      "2017-06-29 18:00:00  0.016262  -0.004797  1.148997e-02  0.029670  0.021816   \n",
      "\n",
      "                     USDT_NXT      USDT_REP  USDT_STR  USDT_XMR      USDT_XRP  \\\n",
      "date                                                                            \n",
      "2017-04-01 10:00:00 -0.001561 -3.074731e-02 -0.002151  0.018321  2.805618e-02   \n",
      "2017-04-02 02:00:00  0.006504  1.813593e-02 -0.036365 -0.004785 -4.504505e-07   \n",
      "2017-04-02 10:00:00 -0.008527 -6.226185e-02 -0.007042 -0.004125  1.185518e-01   \n",
      "2017-04-02 18:00:00 -0.010460 -9.856395e-02  0.234114 -0.026643  4.380989e-01   \n",
      "2017-04-02 22:00:00 -0.072261 -4.373204e-02  0.122727 -0.005025  7.056799e-02   \n",
      "2017-04-03 04:00:00  0.020951 -1.481814e-02 -0.080897 -0.003356 -1.233426e-01   \n",
      "2017-04-03 06:00:00  0.020513 -4.065421e-02 -0.038382 -0.002702  2.975601e-03   \n",
      "2017-04-03 22:00:00 -0.010477 -5.696757e-02 -0.107449 -0.027215 -1.340947e-01   \n",
      "2017-04-06 14:00:00 -0.025377  7.195096e-03 -0.005354 -0.008973  8.236210e-02   \n",
      "2017-04-06 22:00:00 -0.084707 -8.448454e-02 -0.077221  0.022128 -2.441058e-02   \n",
      "2017-04-07 10:00:00 -0.039689 -2.729960e-02  0.043747  0.018081 -2.763141e-03   \n",
      "2017-04-09 18:00:00 -0.047740 -1.687684e-02 -0.033885  0.020278 -1.181181e-02   \n",
      "2017-04-10 12:00:00 -0.014004 -9.927452e-03 -0.007131 -0.005073  1.251905e-02   \n",
      "2017-04-13 22:00:00  0.020929 -1.987624e-03  0.011961 -0.000409  4.203103e-03   \n",
      "2017-04-18 10:00:00  0.004436 -3.274392e-03 -0.016218 -0.005393 -2.229529e-03   \n",
      "2017-04-20 18:00:00 -0.057206 -2.624127e-02 -0.044722  0.007536  1.557325e-02   \n",
      "2017-04-20 20:00:00  0.046036  2.596346e-03  0.000139 -0.006498  1.999967e-02   \n",
      "2017-04-21 02:00:00 -0.010467 -6.015316e-03  0.003047  0.011562  2.402449e-02   \n",
      "2017-04-23 00:00:00  0.000276 -8.690834e-03  0.009427  0.002293  1.930213e-02   \n",
      "2017-04-23 18:00:00  0.004566 -1.076686e-02  0.006213 -0.006324 -1.277941e-02   \n",
      "2017-04-29 02:00:00  0.011386 -1.403033e-02 -0.010619 -0.004433  8.292093e-02   \n",
      "2017-05-01 00:00:00  0.030451  7.918851e-03 -0.030632  0.005365 -1.004727e-02   \n",
      "2017-05-01 06:00:00 -0.002785  7.362542e-03 -0.017842  0.020533  6.788716e-02   \n",
      "2017-05-01 18:00:00  0.005340 -1.110465e-01 -0.051074  0.010000 -1.338456e-02   \n",
      "2017-05-01 20:00:00  0.017187  3.254755e-02  0.039640 -0.017499 -6.356819e-03   \n",
      "2017-05-01 22:00:00 -0.051922 -3.484584e-02 -0.019194 -0.019504  4.453597e-03   \n",
      "2017-05-02 08:00:00  0.044436  8.333246e-03  0.007271 -0.007799 -7.252061e-03   \n",
      "2017-05-02 14:00:00  0.026750  4.265263e-02  0.049695  0.004073  2.265331e-02   \n",
      "2017-05-03 02:00:00  0.011839 -9.604817e-03 -0.019260 -0.001965 -8.517992e-03   \n",
      "2017-05-03 04:00:00 -0.022953 -1.044158e-05 -0.011207  0.000432  5.048111e-03   \n",
      "...                       ...           ...       ...       ...           ...   \n",
      "2017-06-19 02:00:00  0.001840  7.631875e-04 -0.006314  0.007594 -8.360428e-03   \n",
      "2017-06-19 06:00:00  0.020135  3.929032e-07  0.016208 -0.002799 -8.417242e-03   \n",
      "2017-06-19 16:00:00 -0.011477  2.353670e-03 -0.012660 -0.025386 -1.028464e-02   \n",
      "2017-06-19 20:00:00  0.000287 -2.330593e-07 -0.000412 -0.001447 -1.034863e-02   \n",
      "2017-06-20 02:00:00 -0.028097  9.527556e-03 -0.004888  0.003660 -1.451888e-02   \n",
      "2017-06-20 14:00:00  0.011364  7.306107e-03 -0.023015  0.026858 -1.422251e-02   \n",
      "2017-06-20 20:00:00 -0.015838 -1.931936e-02 -0.000719 -0.002749 -3.275351e-02   \n",
      "2017-06-20 22:00:00  0.016832 -1.229700e-02  0.008029 -0.014509  5.555552e-02   \n",
      "2017-06-21 04:00:00 -0.011811  0.000000e+00  0.004979 -0.003883  2.712491e-02   \n",
      "2017-06-21 06:00:00 -0.021839 -4.683013e-02 -0.007697 -0.011421 -2.130265e-02   \n",
      "2017-06-22 02:00:00 -0.015060  9.832798e-03  0.001288  0.005106  1.282988e-02   \n",
      "2017-06-22 18:00:00  0.004143  2.838326e-02 -0.005629  0.011038  9.458406e-03   \n",
      "2017-06-24 18:00:00  0.004118 -2.669739e-02 -0.003131 -0.008088 -2.305509e-02   \n",
      "2017-06-25 00:00:00 -0.011780 -1.619774e-02 -0.011092 -0.010504 -2.719940e-03   \n",
      "2017-06-25 08:00:00  0.006626 -6.883993e-03 -0.000739 -0.003779 -2.017425e-03   \n",
      "2017-06-25 12:00:00  0.058827  6.921439e-03  0.002432  0.010051 -7.586851e-03   \n",
      "2017-06-25 20:00:00 -0.092242 -5.249824e-02 -0.064387 -0.040054 -3.923790e-02   \n",
      "2017-06-26 02:00:00  0.078212  7.379146e-03  0.050550  0.026415  2.010571e-02   \n",
      "2017-06-26 12:00:00 -0.010009  3.535996e-03 -0.011272 -0.043583  8.095735e-03   \n",
      "2017-06-27 00:00:00  0.107164  4.809436e-02  0.001379  0.023747  2.679833e-02   \n",
      "2017-06-27 04:00:00  0.032637  4.926792e-03 -0.019703 -0.021636  1.799620e-03   \n",
      "2017-06-27 18:00:00  0.029637  1.729804e-02  0.013835  0.040359  1.784249e-02   \n",
      "2017-06-27 20:00:00  0.049903  7.538770e-02  0.091991  0.037734  5.091630e-02   \n",
      "2017-06-27 22:00:00  0.008423  3.668068e-02 -0.039396  0.030144 -7.799508e-03   \n",
      "2017-06-28 02:00:00 -0.038549 -2.361971e-02 -0.054565 -0.044797 -4.376624e-02   \n",
      "2017-06-28 06:00:00 -0.033703  1.151787e-03 -0.034878 -0.003091 -1.994953e-02   \n",
      "2017-06-28 10:00:00  0.018748 -1.461776e-03  0.050533 -0.000730  7.126771e-03   \n",
      "2017-06-28 16:00:00 -0.020193 -5.481384e-03  0.011551 -0.011247 -2.316447e-02   \n",
      "2017-06-29 00:00:00 -0.025070 -1.262780e-02 -0.009845  0.008186 -4.648510e-03   \n",
      "2017-06-29 18:00:00  0.007751  1.836194e-02  0.009737  0.026350  1.560041e-02   \n",
      "\n",
      "                     USDT_ZEC  \n",
      "date                           \n",
      "2017-04-01 10:00:00  0.002400  \n",
      "2017-04-02 02:00:00 -0.007190  \n",
      "2017-04-02 10:00:00 -0.003109  \n",
      "2017-04-02 18:00:00 -0.039918  \n",
      "2017-04-02 22:00:00  0.008524  \n",
      "2017-04-03 04:00:00 -0.014457  \n",
      "2017-04-03 06:00:00  0.009012  \n",
      "2017-04-03 22:00:00 -0.025496  \n",
      "2017-04-06 14:00:00 -0.009878  \n",
      "2017-04-06 22:00:00  0.014756  \n",
      "2017-04-07 10:00:00  0.029210  \n",
      "2017-04-09 18:00:00 -0.030534  \n",
      "2017-04-10 12:00:00  0.002943  \n",
      "2017-04-13 22:00:00  0.003391  \n",
      "2017-04-18 10:00:00 -0.000683  \n",
      "2017-04-20 18:00:00 -0.008503  \n",
      "2017-04-20 20:00:00  0.007096  \n",
      "2017-04-21 02:00:00  0.001271  \n",
      "2017-04-23 00:00:00  0.003228  \n",
      "2017-04-23 18:00:00 -0.010204  \n",
      "2017-04-29 02:00:00  0.013508  \n",
      "2017-05-01 00:00:00 -0.000756  \n",
      "2017-05-01 06:00:00  0.007418  \n",
      "2017-05-01 18:00:00 -0.053180  \n",
      "2017-05-01 20:00:00  0.004768  \n",
      "2017-05-01 22:00:00 -0.013243  \n",
      "2017-05-02 08:00:00 -0.023473  \n",
      "2017-05-02 14:00:00  0.053254  \n",
      "2017-05-03 02:00:00 -0.020406  \n",
      "2017-05-03 04:00:00 -0.001211  \n",
      "...                       ...  \n",
      "2017-06-19 02:00:00 -0.005910  \n",
      "2017-06-19 06:00:00  0.001600  \n",
      "2017-06-19 16:00:00 -0.013333  \n",
      "2017-06-19 20:00:00 -0.006789  \n",
      "2017-06-20 02:00:00  0.028851  \n",
      "2017-06-20 14:00:00  0.018239  \n",
      "2017-06-20 20:00:00 -0.021014  \n",
      "2017-06-20 22:00:00  0.023183  \n",
      "2017-06-21 04:00:00 -0.004600  \n",
      "2017-06-21 06:00:00 -0.026080  \n",
      "2017-06-22 02:00:00  0.011485  \n",
      "2017-06-22 18:00:00  0.002593  \n",
      "2017-06-24 18:00:00 -0.019690  \n",
      "2017-06-25 00:00:00 -0.007180  \n",
      "2017-06-25 08:00:00 -0.024292  \n",
      "2017-06-25 12:00:00 -0.000839  \n",
      "2017-06-25 20:00:00 -0.062085  \n",
      "2017-06-26 02:00:00  0.016073  \n",
      "2017-06-26 12:00:00  0.005828  \n",
      "2017-06-27 00:00:00  0.068275  \n",
      "2017-06-27 04:00:00  0.077071  \n",
      "2017-06-27 18:00:00  0.037620  \n",
      "2017-06-27 20:00:00  0.064463  \n",
      "2017-06-27 22:00:00  0.003226  \n",
      "2017-06-28 02:00:00 -0.044102  \n",
      "2017-06-28 06:00:00 -0.021795  \n",
      "2017-06-28 10:00:00  0.006663  \n",
      "2017-06-28 16:00:00 -0.027591  \n",
      "2017-06-29 00:00:00 -0.023511  \n",
      "2017-06-29 18:00:00  0.023526  \n",
      "\n",
      "[204 rows x 11 columns]\n"
     ]
    }
   ],
   "source": [
    "rendement_lag = rendement[1:]\n",
    "\n",
    "#rendement_positif = rendement_lag[rendement[:-1]['USDT_BTC'] > 0.01]\n",
    "\n",
    "tmp = rendement[:-1]\n",
    "tmp.index = rendement_lag.index\n",
    "\n",
    "\n",
    "\n",
    "rendement_positif = rendement_lag[tmp[:] > 0.01]\n",
    "\n",
    "print(rendement_positif)"
   ]
  },
  {
   "cell_type": "code",
   "execution_count": 69,
   "metadata": {
    "collapsed": false
   },
   "outputs": [
    {
     "data": {
      "text/plain": [
       "USDT_BTC    -0.000605\n",
       "USDT_DASH    0.000402\n",
       "USDT_ETC     0.000773\n",
       "USDT_ETH     0.001395\n",
       "USDT_LTC     0.001116\n",
       "USDT_NXT     0.000562\n",
       "USDT_REP    -0.000366\n",
       "USDT_STR     0.004399\n",
       "USDT_XMR    -0.000433\n",
       "USDT_XRP     0.005088\n",
       "USDT_ZEC     0.002064\n",
       "dtype: float64"
      ]
     },
     "execution_count": 69,
     "metadata": {},
     "output_type": "execute_result"
    }
   ],
   "source": [
    "rendement_positif.mean(0)"
   ]
  },
  {
   "cell_type": "code",
   "execution_count": 70,
   "metadata": {
    "collapsed": false
   },
   "outputs": [
    {
     "name": "stdout",
     "output_type": "stream",
     "text": [
      "           USDT_BTC  USDT_DASH  USDT_ETC  USDT_ETH  USDT_LTC  USDT_NXT  \\\n",
      "USDT_BTC   1.000000   0.585422  0.620630  0.667955  0.573118  0.469896   \n",
      "USDT_DASH  0.585422   1.000000  0.524289  0.553522  0.467479  0.374866   \n",
      "USDT_ETC   0.620630   0.524289  1.000000  0.705180  0.498341  0.450866   \n",
      "USDT_ETH   0.667955   0.553522  0.705180  1.000000  0.516914  0.426727   \n",
      "USDT_LTC   0.573118   0.467479  0.498341  0.516914  1.000000  0.393289   \n",
      "USDT_NXT   0.469896   0.374866  0.450866  0.426727  0.393289  1.000000   \n",
      "USDT_REP   0.528599   0.426007  0.471645  0.472759  0.435113  0.382071   \n",
      "USDT_STR   0.359940   0.378128  0.376336  0.390215  0.384091  0.369015   \n",
      "USDT_XMR   0.653632   0.571502  0.535768  0.597346  0.538226  0.460886   \n",
      "USDT_XRP   0.395277   0.332154  0.319929  0.369099  0.334485  0.356134   \n",
      "USDT_ZEC   0.507199   0.482918  0.499834  0.549511  0.400468  0.394764   \n",
      "\n",
      "           USDT_REP  USDT_STR  USDT_XMR  USDT_XRP  USDT_ZEC  \n",
      "USDT_BTC   0.528599  0.359940  0.653632  0.395277  0.507199  \n",
      "USDT_DASH  0.426007  0.378128  0.571502  0.332154  0.482918  \n",
      "USDT_ETC   0.471645  0.376336  0.535768  0.319929  0.499834  \n",
      "USDT_ETH   0.472759  0.390215  0.597346  0.369099  0.549511  \n",
      "USDT_LTC   0.435113  0.384091  0.538226  0.334485  0.400468  \n",
      "USDT_NXT   0.382071  0.369015  0.460886  0.356134  0.394764  \n",
      "USDT_REP   1.000000  0.322503  0.480155  0.247758  0.474596  \n",
      "USDT_STR   0.322503  1.000000  0.452568  0.635116  0.337150  \n",
      "USDT_XMR   0.480155  0.452568  1.000000  0.415504  0.536130  \n",
      "USDT_XRP   0.247758  0.635116  0.415504  1.000000  0.277131  \n",
      "USDT_ZEC   0.474596  0.337150  0.536130  0.277131  1.000000  \n"
     ]
    }
   ],
   "source": [
    "print(rendement.corr())"
   ]
  },
  {
   "cell_type": "code",
   "execution_count": null,
   "metadata": {
    "collapsed": true
   },
   "outputs": [],
   "source": []
  },
  {
   "cell_type": "code",
   "execution_count": null,
   "metadata": {
    "collapsed": true
   },
   "outputs": [],
   "source": []
  }
 ],
 "metadata": {
  "anaconda-cloud": {},
  "kernelspec": {
   "display_name": "Python [conda root]",
   "language": "python",
   "name": "conda-root-py"
  },
  "language_info": {
   "codemirror_mode": {
    "name": "ipython",
    "version": 2
   },
   "file_extension": ".py",
   "mimetype": "text/x-python",
   "name": "python",
   "nbconvert_exporter": "python",
   "pygments_lexer": "ipython2",
   "version": "2.7.12"
  }
 },
 "nbformat": 4,
 "nbformat_minor": 1
}
