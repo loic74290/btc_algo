{
 "cells": [
  {
   "cell_type": "code",
   "execution_count": 1,
   "metadata": {
    "collapsed": true
   },
   "outputs": [],
   "source": [
    "import pandas as pd"
   ]
  },
  {
   "cell_type": "code",
   "execution_count": 2,
   "metadata": {
    "collapsed": false
   },
   "outputs": [],
   "source": [
    "from poloniex import Poloniex\n",
    "from time import time\n",
    "polo = Poloniex()"
   ]
  },
  {
   "cell_type": "code",
   "execution_count": 3,
   "metadata": {
    "collapsed": false
   },
   "outputs": [],
   "source": [
    "api = Poloniex(jsonNums=float)\n",
    "\n",
    "\n",
    "\n",
    "raw = api.returnChartData('all', period=api.HOUR * 2, start=time()-api.MONTH*3)\n",
    "df = pd.DataFrame(raw)\n",
    "\n",
    "# adjust dates format and set dates as index\n",
    "df['date'] = pd.to_datetime(df[\"date\"], unit='s')\n",
    "df.set_index('date', inplace=True)\n",
    "\n"
   ]
  },
  {
   "cell_type": "code",
   "execution_count": 4,
   "metadata": {
    "collapsed": false
   },
   "outputs": [
    {
     "name": "stdout",
     "output_type": "stream",
     "text": [
      "            close  high  low  open  quoteVolume  volume  weightedAverage\n",
      "date                                                                    \n",
      "1970-01-01    0.0   0.0  0.0   0.0          0.0     0.0              0.0\n"
     ]
    }
   ],
   "source": [
    "# show the end of dataframe\n",
    "print(df)"
   ]
  },
  {
   "cell_type": "code",
   "execution_count": 5,
   "metadata": {
    "collapsed": false
   },
   "outputs": [],
   "source": [
    "a = api.return24hVolume()\n",
    "a = pd.DataFrame(a)"
   ]
  },
  {
   "cell_type": "code",
   "execution_count": 6,
   "metadata": {
    "collapsed": false
   },
   "outputs": [
    {
     "name": "stdout",
     "output_type": "stream",
     "text": [
      "[u'USDT_BTC', u'USDT_DASH', u'USDT_ETC', u'USDT_ETH', u'USDT_LTC', u'USDT_NXT', u'USDT_REP', u'USDT_STR', u'USDT_XMR', u'USDT_XRP', u'USDT_ZEC']\n"
     ]
    }
   ],
   "source": [
    "pairs = [pair for pair in a.columns if pair.startswith('USDT')]\n",
    "print(pairs)"
   ]
  },
  {
   "cell_type": "code",
   "execution_count": 7,
   "metadata": {
    "collapsed": false
   },
   "outputs": [],
   "source": [
    "a = pd.DataFrame()\n",
    "\n",
    "for pair in pairs:\n",
    "    raw = api.returnChartData(pair, period = api.HOUR * 2, start = time() - api.MONTH * 3)\n",
    "    df = pd.DataFrame(raw)\n",
    "    df['date'] = pd.to_datetime(df[\"date\"], unit = 's')\n",
    "    df.set_index('date', inplace = True)\n",
    "    b = df['open']\n",
    "    a[pair] = b"
   ]
  },
  {
   "cell_type": "code",
   "execution_count": 8,
   "metadata": {
    "collapsed": false
   },
   "outputs": [],
   "source": [
    "a.to_csv('d.csv', sep = ';', decimal = ',')"
   ]
  },
  {
   "cell_type": "code",
   "execution_count": 14,
   "metadata": {
    "collapsed": false
   },
   "outputs": [],
   "source": [
    "\n",
    "\n",
    "\n",
    "\n"
   ]
  },
  {
   "cell_type": "code",
   "execution_count": null,
   "metadata": {
    "collapsed": true
   },
   "outputs": [],
   "source": []
  }
 ],
 "metadata": {
  "anaconda-cloud": {},
  "kernelspec": {
   "display_name": "Python [conda root]",
   "language": "python",
   "name": "conda-root-py"
  },
  "language_info": {
   "codemirror_mode": {
    "name": "ipython",
    "version": 2
   },
   "file_extension": ".py",
   "mimetype": "text/x-python",
   "name": "python",
   "nbconvert_exporter": "python",
   "pygments_lexer": "ipython2",
   "version": "2.7.12"
  }
 },
 "nbformat": 4,
 "nbformat_minor": 1
}
